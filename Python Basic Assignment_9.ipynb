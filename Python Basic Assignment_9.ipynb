{
 "cells": [
  {
   "cell_type": "markdown",
   "id": "482c26ba",
   "metadata": {},
   "source": [
    "Q.[1] : To what does a relative path refer?\n",
    "\n",
    "Ans:- Relative paths are relative to the current working directory."
   ]
  },
  {
   "cell_type": "markdown",
   "id": "3bf89eef",
   "metadata": {},
   "source": [
    "Q.[2] : What does an absolute path start with your operating system?\n",
    "    \n",
    "Ans:- Absolute paths start with the root folder, such as / or C:."
   ]
  },
  {
   "cell_type": "markdown",
   "id": "9af88efd",
   "metadata": {},
   "source": [
    "Q.[3] : What do the functions os.getcwd() and os.chdir() do?\n",
    "\n",
    "Ans:- The os.getcwd() function returns the current working directory. The os.chdir() function changes the current working directory."
   ]
  },
  {
   "cell_type": "markdown",
   "id": "758ecf99",
   "metadata": {},
   "source": [
    "Q.[4] : What are the . and .. folders?\n",
    "    \n",
    "Ans:-The . folder is the current folder, and .. is the parent folder."
   ]
  },
  {
   "cell_type": "markdown",
   "id": "14157c98",
   "metadata": {},
   "source": [
    "Q.[5] : In C:\\bacon\\eggs\\spam.txt, which part is the dir name, and which part is the base name?\n",
    "        \n",
    "Ans:- C:\\bacon\\eggs is the dir name, while spam.txt is the base name."
   ]
  },
  {
   "cell_type": "markdown",
   "id": "94a3c6a2",
   "metadata": {},
   "source": [
    "Q.[6] : What are the three “mode” arguments that can be passed to the open() function?\n",
    "    \n",
    "Ans:- The string 'r' for read mode, 'w' for write mode, and 'a' for append mode."
   ]
  },
  {
   "cell_type": "markdown",
   "id": "31b2963d",
   "metadata": {},
   "source": [
    "Q.[7] : What happens if an existing file is opened in write mode?\n",
    "    \n",
    "Ans:- An existing file opened in write mode is erased and completely overwritten."
   ]
  },
  {
   "cell_type": "markdown",
   "id": "7eba86f8",
   "metadata": {},
   "source": [
    "Q.[8] : How do you tell the difference between read() and readlines()?\n",
    "    \n",
    "Ans:- The read() method returns the file’s entire contents as a single string value. The readlines() method returns a list of strings, where each string is a line from the file’s contents."
   ]
  },
  {
   "cell_type": "markdown",
   "id": "171c3580",
   "metadata": {},
   "source": [
    "Q.[9] : What data structure does a shelf value resemble?\n",
    "    \n",
    "Ans:- A shelf value resembles a dictionary value; it has keys and values, along with keys() and values() methods that work similarly to the dictionary methods of the same names."
   ]
  },
  {
   "cell_type": "code",
   "execution_count": null,
   "id": "fdce713f",
   "metadata": {},
   "outputs": [],
   "source": []
  }
 ],
 "metadata": {
  "kernelspec": {
   "display_name": "Python 3 (ipykernel)",
   "language": "python",
   "name": "python3"
  },
  "language_info": {
   "codemirror_mode": {
    "name": "ipython",
    "version": 3
   },
   "file_extension": ".py",
   "mimetype": "text/x-python",
   "name": "python",
   "nbconvert_exporter": "python",
   "pygments_lexer": "ipython3",
   "version": "3.9.12"
  }
 },
 "nbformat": 4,
 "nbformat_minor": 5
}
